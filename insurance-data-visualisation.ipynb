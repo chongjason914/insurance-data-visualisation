{
 "cells": [
  {
   "cell_type": "markdown",
   "metadata": {},
   "source": [
    "# 0. Introduction\n",
    "\n",
    "One of the most important skills to develop as a data scientist is the ability to communicate the results of your analysis to relevant stakeholders. In consulting, clients often do not have the time to read through your code line by line but instead are more interested in the key insights of a particular project, and how those insights can be used to make their business more efficient and profitable.\n",
    "\n",
    "When done properly, data visualisation aims to summarise important trends and patterns in the dataset, therefore allowing the key points of an analysis to be communicated in a succint manner.\n",
    "\n",
    "[Seaborn](https://seaborn.pydata.org/examples/index.html) is a library that is built specifically for the purpose of visualising data. In this notebook, I will demonstrate some of the most common visualisation techniques provided by the seaborn library with reference to the [Kaggle medical cost dataset](https://www.kaggle.com/mirichoi0218/insurance). This dataset contains information about 1,338 insurance beneficiaries living in the United States and the corresponding amount they pay for their health insurance premium.\n",
    "\n",
    "I have chosen this dataset for the following reasons:\n",
    "- Good mix of numerical and categorical variables\n",
    "- Not too many features\n",
    "- Intuitive and straightforward relationship between the predictor and target variables (charges)\n",
    "\n",
    "I will demonstrate how seaborn can be used to visualise the distribution as well as the relationship between different variables in this dataset. Not included in this notebook is sns.lineplot, which is typically used to analyse time series."
   ]
  },
  {
   "cell_type": "markdown",
   "metadata": {},
   "source": [
    "# 1. Import libraries"
   ]
  },
  {
   "cell_type": "code",
   "execution_count": null,
   "metadata": {},
   "outputs": [],
   "source": [
    "import pandas as pd\n",
    "import numpy as np\n",
    "import seaborn as sns\n",
    "import matplotlib.pyplot as plt\n",
    "import warnings\n",
    "warnings.filterwarnings('ignore')"
   ]
  },
  {
   "cell_type": "markdown",
   "metadata": {},
   "source": [
    "# 2. Import and read data"
   ]
  },
  {
   "cell_type": "code",
   "execution_count": null,
   "metadata": {},
   "outputs": [],
   "source": [
    "data = pd.read_csv(\"C:/Users/Jason Chong/Documents/Kaggle/medical-cost/insurance.csv\")\n",
    "data.head()"
   ]
  },
  {
   "cell_type": "code",
   "execution_count": null,
   "metadata": {},
   "outputs": [],
   "source": [
    "print(\"Shape of dataframe: \", data.shape)"
   ]
  },
  {
   "cell_type": "markdown",
   "metadata": {},
   "source": [
    "# 3. Data description\n",
    "\n",
    "Below are the description of the columns in the dataset:\n",
    "- age: Age of primary beneficiary\n",
    "- sex: Insurance contractor gender\n",
    "- bmi: Body mass index\n",
    "- children: Number of children covered by health insurance / Number of dependents\n",
    "- smoker: Smoking\n",
    "- region: The beneficiary's residential area in the US\n",
    "- charges: Individual medical costs billed by health insurance"
   ]
  },
  {
   "cell_type": "markdown",
   "metadata": {},
   "source": [
    "# 4. Check missing values, data types and summary statistics"
   ]
  },
  {
   "cell_type": "code",
   "execution_count": null,
   "metadata": {},
   "outputs": [],
   "source": [
    "data.info()"
   ]
  },
  {
   "cell_type": "code",
   "execution_count": null,
   "metadata": {},
   "outputs": [],
   "source": [
    "# Missing data\n",
    "\n",
    "data.isnull().sum()"
   ]
  },
  {
   "cell_type": "markdown",
   "metadata": {},
   "source": [
    "Hooray, no missing values!"
   ]
  },
  {
   "cell_type": "code",
   "execution_count": null,
   "metadata": {},
   "outputs": [],
   "source": [
    "# Data types\n",
    "\n",
    "data.dtypes"
   ]
  },
  {
   "cell_type": "code",
   "execution_count": null,
   "metadata": {},
   "outputs": [],
   "source": [
    "# Data type value counts\n",
    "\n",
    "data.dtypes.value_counts()"
   ]
  },
  {
   "cell_type": "markdown",
   "metadata": {},
   "source": [
    "We have 3 categorical variables and 4 numerical variables."
   ]
  },
  {
   "cell_type": "code",
   "execution_count": null,
   "metadata": {},
   "outputs": [],
   "source": [
    "# Summary statistics\n",
    "\n",
    "data.describe().transpose()"
   ]
  },
  {
   "cell_type": "markdown",
   "metadata": {},
   "source": [
    "# 5. Feature engineering\n",
    "\n",
    "Feature engineering is the process of creating new features using existing features in the dataset. In this section, I will create 3 new features:\n",
    "\n",
    "- age_category\n",
    "- weight_condition\n",
    "- dependent"
   ]
  },
  {
   "cell_type": "code",
   "execution_count": null,
   "metadata": {},
   "outputs": [],
   "source": [
    "# Age category\n",
    "\n",
    "data.loc[(data['age'] >= 18) & (data['age'] < 36), 'age_category'] = 'youth'\n",
    "data.loc[(data['age'] >= 36) & (data['age'] <= 55), 'age_category'] = 'adults'\n",
    "data.loc[data['age'] > 55, 'age_category'] = 'seniors'\n",
    "data['age_category'].value_counts()"
   ]
  },
  {
   "cell_type": "code",
   "execution_count": null,
   "metadata": {},
   "outputs": [],
   "source": [
    "# Weight condition\n",
    "\n",
    "data.loc[data['bmi'] < 18.5, 'weight_condition'] = 'underweight'\n",
    "data.loc[(data['bmi'] >= 18.5) & (data['bmi'] < 25), 'weight_condition'] = 'normal weight'\n",
    "data.loc[(data['bmi'] >= 25) & (data['bmi'] < 30), 'weight_condition'] = 'overweight'\n",
    "data.loc[data['bmi'] >= 30, 'weight_condition'] = 'obese'\n",
    "data['weight_condition'].value_counts()"
   ]
  },
  {
   "cell_type": "code",
   "execution_count": null,
   "metadata": {},
   "outputs": [],
   "source": [
    "# Dependent\n",
    "\n",
    "data.loc[data['children'] > 0, 'dependent'] = 'yes'\n",
    "data.loc[data['children'] == 0, 'dependent'] = 'no'\n",
    "data['dependent'].value_counts()"
   ]
  },
  {
   "cell_type": "code",
   "execution_count": null,
   "metadata": {},
   "outputs": [],
   "source": [
    "data.head()"
   ]
  },
  {
   "cell_type": "code",
   "execution_count": null,
   "metadata": {},
   "outputs": [],
   "source": [
    "# Missing data\n",
    "\n",
    "data.isnull().sum()"
   ]
  },
  {
   "cell_type": "code",
   "execution_count": null,
   "metadata": {
    "scrolled": true
   },
   "outputs": [],
   "source": [
    "# Data types \n",
    "\n",
    "data.dtypes"
   ]
  },
  {
   "cell_type": "code",
   "execution_count": null,
   "metadata": {},
   "outputs": [],
   "source": [
    "# Data type value counts\n",
    "\n",
    "data.dtypes.value_counts()"
   ]
  },
  {
   "cell_type": "markdown",
   "metadata": {},
   "source": [
    "After feature engineering, we now have 3 additional categorical variables, bringing the total to 6 categorical variables as well as 4 numerical variables."
   ]
  },
  {
   "cell_type": "markdown",
   "metadata": {},
   "source": [
    "# 6. Visualise distribution\n",
    "\n",
    "Before we visualise the distribution of our data, it is always good practice that we first categorise the features in the dataset as either categorical or numerical variable. This is because they each have different distribution of values and hence require different plots to properly visualise them. Categorical variables have a discrete distribution whereas numerical variables have a continuous distribution.\n",
    "\n",
    "Categorical variables:\n",
    "- sns.countplot\n",
    "- sns.catplot (formerly sns.factorplot)\n",
    "\n",
    "Numerical variables:\n",
    "- sns.boxplot\n",
    "- sns.distplot\n",
    "- sns.kdeplot\n",
    "- sns.catplot"
   ]
  },
  {
   "cell_type": "markdown",
   "metadata": {},
   "source": [
    "## 6.1 Categorical variables\n",
    "\n",
    "Recall the categorical variables in our dataset include:\n",
    "- sex\n",
    "- smoker\n",
    "- region\n",
    "- age_category\n",
    "- weight_condition\n",
    "- dependent"
   ]
  },
  {
   "cell_type": "markdown",
   "metadata": {},
   "source": [
    "## 6.1.1 sns.countplot\n",
    "\n",
    "Countplot simply shows the count of each value in a column."
   ]
  },
  {
   "cell_type": "code",
   "execution_count": null,
   "metadata": {},
   "outputs": [],
   "source": [
    "data['sex'].value_counts()"
   ]
  },
  {
   "cell_type": "code",
   "execution_count": null,
   "metadata": {},
   "outputs": [],
   "source": [
    "plt.figure(figsize = (7, 6))\n",
    "sns.countplot(data['sex'])\n",
    "plt.title('Sex Value Counts')"
   ]
  },
  {
   "cell_type": "markdown",
   "metadata": {},
   "source": [
    "There is almost an equal distribution between male and female in the dataset."
   ]
  },
  {
   "cell_type": "code",
   "execution_count": null,
   "metadata": {},
   "outputs": [],
   "source": [
    "data['smoker'].value_counts()"
   ]
  },
  {
   "cell_type": "code",
   "execution_count": null,
   "metadata": {},
   "outputs": [],
   "source": [
    "plt.figure(figsize = (7, 6))\n",
    "sns.countplot(data['smoker'])\n",
    "plt.title('Smoker Value Counts')"
   ]
  },
  {
   "cell_type": "markdown",
   "metadata": {},
   "source": [
    "There are more non-smokers than there are smokers in the dataset."
   ]
  },
  {
   "cell_type": "code",
   "execution_count": null,
   "metadata": {},
   "outputs": [],
   "source": [
    "data['region'].value_counts()"
   ]
  },
  {
   "cell_type": "code",
   "execution_count": null,
   "metadata": {},
   "outputs": [],
   "source": [
    "# Countplot with percentage\n",
    "\n",
    "total = len(data)\n",
    "plt.figure(figsize = (10, 6))\n",
    "plt.title('Region Value Counts')\n",
    "ax = sns.countplot(x = 'region', data = data)\n",
    "for p in ax.patches:\n",
    "    percentage = '{0:.0f}%'.format(p.get_height() / total * 100)\n",
    "    x = p.get_x() + p.get_width() / 2\n",
    "    y = p.get_height() + 5\n",
    "    ax.annotate(percentage, (x, y), ha = 'center')\n",
    "plt.show()"
   ]
  },
  {
   "cell_type": "markdown",
   "metadata": {},
   "source": [
    "There is almost an equal distribution between the 4 regions with southeast having slightly more people."
   ]
  },
  {
   "cell_type": "code",
   "execution_count": null,
   "metadata": {},
   "outputs": [],
   "source": [
    "data['age_category'].value_counts()"
   ]
  },
  {
   "cell_type": "code",
   "execution_count": null,
   "metadata": {},
   "outputs": [],
   "source": [
    "total = len(data)\n",
    "plt.figure(figsize = (7, 6))\n",
    "plt.title('Age Category Value Counts')\n",
    "ax = sns.countplot(x = 'age_category', data = data)\n",
    "for p in ax.patches:\n",
    "    percentage = '{0:.0f}%'.format(p.get_height() / total * 100)\n",
    "    x = p.get_x() + p.get_width() / 2\n",
    "    y = p.get_height() + 5\n",
    "    ax.annotate(percentage, (x, y), ha = 'center')\n",
    "plt.show()"
   ]
  },
  {
   "cell_type": "markdown",
   "metadata": {},
   "source": [
    "There is almost and equal distribution between youth and adults. Seniors have the least number of people."
   ]
  },
  {
   "cell_type": "code",
   "execution_count": null,
   "metadata": {},
   "outputs": [],
   "source": [
    "data['weight_condition'].value_counts()"
   ]
  },
  {
   "cell_type": "code",
   "execution_count": null,
   "metadata": {},
   "outputs": [],
   "source": [
    "total = len(data)\n",
    "plt.figure(figsize = (10, 6))\n",
    "plt.title('Weight Condition Value Counts')\n",
    "ax = sns.countplot(x = 'weight_condition', data = data)\n",
    "for p in ax.patches:\n",
    "    percentage = '{0:.0f}%'.format(p.get_height() / total * 100)\n",
    "    x = p.get_x() + p.get_width() / 2\n",
    "    y = p.get_height() + 5\n",
    "    ax.annotate(percentage, (x, y), ha = 'center')\n",
    "plt.show()"
   ]
  },
  {
   "cell_type": "markdown",
   "metadata": {},
   "source": [
    "Oh no! More than half the beneficiaries are considered obese."
   ]
  },
  {
   "cell_type": "code",
   "execution_count": null,
   "metadata": {},
   "outputs": [],
   "source": [
    "data['dependent'].value_counts()"
   ]
  },
  {
   "cell_type": "code",
   "execution_count": null,
   "metadata": {},
   "outputs": [],
   "source": [
    "total = len(data)\n",
    "plt.figure(figsize = (7, 6))\n",
    "plt.title('Dependent Value Counts')\n",
    "ax = sns.countplot(x = 'dependent', data = data)\n",
    "for p in ax.patches:\n",
    "    percentage = '{0:.0f}%'.format(p.get_height() / total * 100)\n",
    "    x = p.get_x() + p.get_width() / 2\n",
    "    y = p.get_height() + 5\n",
    "    ax.annotate(percentage, (x, y), ha = 'center')\n",
    "plt.show()"
   ]
  },
  {
   "cell_type": "markdown",
   "metadata": {},
   "source": [
    "Majority of the  beneficiaries have children."
   ]
  },
  {
   "cell_type": "markdown",
   "metadata": {},
   "source": [
    "## 6.1.2 sns.catplot (formerly sns.factorplot)\n",
    "\n",
    "Factorplot allows us to further break down a categorical variable using another categorical variable."
   ]
  },
  {
   "cell_type": "code",
   "execution_count": null,
   "metadata": {},
   "outputs": [],
   "source": [
    "sns.set_style('whitegrid')\n",
    "sns.catplot('sex', col = 'smoker', hue = 'age_category', data = data, kind = 'count')"
   ]
  },
  {
   "cell_type": "markdown",
   "metadata": {},
   "source": [
    "Here, I have divided the population up by their gender, smoking habits and age category.\n",
    "\n",
    "As we can observe from the plot, there are more male smokers than there are female smokers. Most smokers belong to the youth and adults age categories."
   ]
  },
  {
   "cell_type": "code",
   "execution_count": null,
   "metadata": {},
   "outputs": [],
   "source": [
    "sns.set_style('whitegrid')\n",
    "sns.catplot(x = 'smoker', col = 'region', data = data, kind = 'count', aspect = 0.6)"
   ]
  },
  {
   "cell_type": "markdown",
   "metadata": {},
   "source": [
    "Southeast region has the highest number of smokers."
   ]
  },
  {
   "cell_type": "markdown",
   "metadata": {},
   "source": [
    "## 6.2 Numerical variable\n",
    "\n",
    "Recall the numerical variables in our dataset include:\n",
    "- age\n",
    "- bmi\n",
    "- children\n",
    "- charges"
   ]
  },
  {
   "cell_type": "markdown",
   "metadata": {},
   "source": [
    "## 6.2.1 sns.boxplot\n",
    "\n",
    "Boxplot is one of the most popular plots in statistics. It gives an overview of the distribution of a continuous variable."
   ]
  },
  {
   "cell_type": "code",
   "execution_count": null,
   "metadata": {
    "scrolled": true
   },
   "outputs": [],
   "source": [
    "sns.set_style('white')\n",
    "plt.figure(figsize = (12, 4))\n",
    "sns.boxplot(y = data['smoker'], x = data['charges'])\n",
    "plt.title('Charges by Smoking Habits')"
   ]
  },
  {
   "cell_type": "markdown",
   "metadata": {},
   "source": [
    "As expected, smokers pay a higher premium than non-smokers."
   ]
  },
  {
   "cell_type": "code",
   "execution_count": null,
   "metadata": {},
   "outputs": [],
   "source": [
    "sns.set_style('white')\n",
    "plt.figure(figsize = (12, 5))\n",
    "sns.boxplot(y = data['age_category'], x = data['charges'])\n",
    "plt.title('Charges by Age Category')"
   ]
  },
  {
   "cell_type": "markdown",
   "metadata": {},
   "source": [
    "People pay more for health insurance as they get older."
   ]
  },
  {
   "cell_type": "markdown",
   "metadata": {},
   "source": [
    "## 6.2.2 sns.distplot"
   ]
  },
  {
   "cell_type": "code",
   "execution_count": null,
   "metadata": {},
   "outputs": [],
   "source": [
    "sns.set_style('white')\n",
    "sns.distplot(data['bmi'], label = 'Skewness: %.2f'%(data['bmi'].skew()))\n",
    "plt.legend(loc = 'best')\n",
    "plt.title('BMI Distribution')"
   ]
  },
  {
   "cell_type": "markdown",
   "metadata": {},
   "source": [
    "BMI follows a normal distribution but the average BMI for this population is considered overweight or obese. This comes at no surprise as the United States has one of the highest levels of obesity in the world."
   ]
  },
  {
   "cell_type": "code",
   "execution_count": null,
   "metadata": {},
   "outputs": [],
   "source": [
    "print(\"Average BMI: {:.2f}\".format(data['bmi'].mean()))"
   ]
  },
  {
   "cell_type": "code",
   "execution_count": null,
   "metadata": {},
   "outputs": [],
   "source": [
    "sns.set_style('white')\n",
    "sns.distplot(data['bmi'], label = 'Skewness: %.2f'%(data['bmi'].skew()), kde = False)\n",
    "plt.legend(loc = 'best')\n",
    "plt.title('BMI Distribution')"
   ]
  },
  {
   "cell_type": "markdown",
   "metadata": {},
   "source": [
    "We can remove kernel distribution estimation (kde) from distplot by simply setting the kde argument to False."
   ]
  },
  {
   "cell_type": "markdown",
   "metadata": {},
   "source": [
    "## 6.2.3 sns.kdeplot\n",
    "\n",
    "In statistics, kernel distribution estimation is a non-parametric way to estimate the probability density function of a random variable. Essentially, it applies data smoothing to a normal histogram but still serves the same purpose of visualising a continuous variable."
   ]
  },
  {
   "cell_type": "code",
   "execution_count": null,
   "metadata": {},
   "outputs": [],
   "source": [
    "sns.set_style('white')\n",
    "sns.kdeplot(data.loc[data['sex'] == 'male', 'charges'], label = 'Male', shade = True)\n",
    "sns.kdeplot(data.loc[data['sex'] == 'female', 'charges'], label = 'Female', shade = True)\n",
    "plt.xlabel('Charges')\n",
    "plt.title('Charges by Gender')"
   ]
  },
  {
   "cell_type": "markdown",
   "metadata": {},
   "source": [
    "Females pay higher premiums than male. This could be due to the fact that there are more male smokers than there are female smokers."
   ]
  },
  {
   "cell_type": "code",
   "execution_count": null,
   "metadata": {
    "scrolled": true
   },
   "outputs": [],
   "source": [
    "plt.figure(figsize = (10, 4))\n",
    "sns.kdeplot(data.loc[data['age_category'] == 'youth', 'charges'], label = 'Youth', shade = True)\n",
    "sns.kdeplot(data.loc[data['age_category'] == 'adults', 'charges'], label = 'Adults', shade = True)\n",
    "sns.kdeplot(data.loc[data['age_category'] == 'seniors', 'charges'], label = 'Seniors', shade = True)\n",
    "plt.xlabel('Charges')\n",
    "plt.title('Charges by Age Category')"
   ]
  },
  {
   "cell_type": "markdown",
   "metadata": {},
   "source": [
    "As we have seen earlier, premium level increases with age."
   ]
  },
  {
   "cell_type": "markdown",
   "metadata": {},
   "source": [
    "# 7. Visualise relationship\n",
    "\n",
    "- sns.heatmap\n",
    "- sns.barplot\n",
    "- sns.jointplot\n",
    "- sns.scatterplot\n",
    "- sns.regplot\n",
    "- sns.lmplot\n",
    "- sns.swarmplot\n",
    "- sns.violinplot\n",
    "- sns.pairplot\n",
    "- sns.pointplot"
   ]
  },
  {
   "cell_type": "markdown",
   "metadata": {},
   "source": [
    "## 7.1 sns.heatmap\n",
    "\n",
    "Heatmap is one of the easiest ways to analyse the correlation between numerical variables. A positive correlation implies that two variables move in the same direction. Conversely, a negative correlation implies that two variable move in the opposite direction."
   ]
  },
  {
   "cell_type": "code",
   "execution_count": null,
   "metadata": {},
   "outputs": [],
   "source": [
    "correlation = correlation = data[['age', 'bmi', 'children', 'charges']].corr()\n",
    "sns.heatmap(correlation, annot = True, fmt = '.2f', cmap = 'Blues')\n",
    "plt.title('Correlation Between Numerical Variables')"
   ]
  },
  {
   "cell_type": "markdown",
   "metadata": {},
   "source": [
    "The diagonal of a heatmap is always one because they represent the correlation between a variable and itself. The diagonal can also be seen as a mirror between the bottom triangle and the top triangle. If you look closely, the two triangles contain the same set of information.\n",
    "\n",
    "There are two ways to interpret a heatmap: by reading across the columns or by reading down the rows.\n",
    "\n",
    "As we can see from the charges column/row, age is the most correlated feature to charges, followed by bmi and finally children."
   ]
  },
  {
   "cell_type": "code",
   "execution_count": null,
   "metadata": {},
   "outputs": [],
   "source": [
    "correlation['charges'].sort_values(ascending = False).drop('charges')"
   ]
  },
  {
   "cell_type": "markdown",
   "metadata": {},
   "source": [
    "## 7.2 sns.barplot\n",
    "\n",
    "A bar plot represents an estimate of central tendency for a numeric variable with the height of each rectangle and provides some indication of the uncertainty around that estimate using error bars. "
   ]
  },
  {
   "cell_type": "code",
   "execution_count": null,
   "metadata": {},
   "outputs": [],
   "source": [
    "sns.set_style('white')\n",
    "sns.barplot(x = 'region', y = 'charges', data = data)\n",
    "plt.title('Charges by Region')"
   ]
  },
  {
   "cell_type": "markdown",
   "metadata": {},
   "source": [
    "Southeast region pays the highest premium. This could be due to the fact that the region has the highest number of smokers which in turn drove up the average premium levels."
   ]
  },
  {
   "cell_type": "code",
   "execution_count": null,
   "metadata": {},
   "outputs": [],
   "source": [
    "sns.set_style('white')\n",
    "sns.barplot(x = 'dependent', y = 'charges', data = data)\n",
    "plt.title('Charges by Dependent')"
   ]
  },
  {
   "cell_type": "markdown",
   "metadata": {},
   "source": [
    "Policyholders that have children pay a higher premium than those without children. Not exactly sure why."
   ]
  },
  {
   "cell_type": "markdown",
   "metadata": {},
   "source": [
    "## 7.3 sns.jointplot\n",
    "\n",
    "Jointplot shows where data points lie between two separate numerical variables."
   ]
  },
  {
   "cell_type": "code",
   "execution_count": null,
   "metadata": {},
   "outputs": [],
   "source": [
    "sns.jointplot(x = 'bmi', y = 'charges', data = data, kind = 'kde')"
   ]
  },
  {
   "cell_type": "markdown",
   "metadata": {},
   "source": [
    "The darker region represents the majority of the population."
   ]
  },
  {
   "cell_type": "markdown",
   "metadata": {},
   "source": [
    "## 7.4 sns.scatterplot\n",
    "\n",
    "Scatterplot is a good way to spot outliers in your data."
   ]
  },
  {
   "cell_type": "code",
   "execution_count": null,
   "metadata": {},
   "outputs": [],
   "source": [
    "sns.scatterplot(x = 'bmi', y = 'charges', hue = 'smoker', data = data)"
   ]
  },
  {
   "cell_type": "code",
   "execution_count": null,
   "metadata": {},
   "outputs": [],
   "source": [
    "obese_smoker = data.loc[(data['weight_condition'] == 'obese') & (data['smoker'] == 'yes'), :]\n",
    "obese_nonsmoker = data.loc[(data['weight_condition'] == 'obese') & (data['smoker'] == 'no'), :]"
   ]
  },
  {
   "cell_type": "code",
   "execution_count": null,
   "metadata": {},
   "outputs": [],
   "source": [
    "sns.set_style('white')\n",
    "sns.scatterplot(x = 'age', y = 'charges', data = obese_smoker, label = 'Obese Smoker')\n",
    "sns.scatterplot(x = 'age', y = 'charges', data = obese_nonsmoker, label = 'Obese Non-Smoker')"
   ]
  },
  {
   "cell_type": "markdown",
   "metadata": {},
   "source": [
    "## 7.5 regplot\n",
    "\n",
    "Regplot plots the data and adds a linear regression model fit."
   ]
  },
  {
   "cell_type": "code",
   "execution_count": null,
   "metadata": {},
   "outputs": [],
   "source": [
    "sns.set_style('darkgrid')\n",
    "sns.regplot(x = 'bmi', y = 'charges', data = data)\n",
    "plt.title('Charges Against BMI')"
   ]
  },
  {
   "cell_type": "markdown",
   "metadata": {},
   "source": [
    "The linear line has a positive slope, suggesting a positive relationship between bmi and charges. The higher the BMI, the higher the premium for health insurance. "
   ]
  },
  {
   "cell_type": "markdown",
   "metadata": {},
   "source": [
    "## 7.6 lmplot\n",
    "\n",
    "lmplot combines regplot and FacetGrid. The FacetGrid class helps in visualising the distribution of one variable as well as the relationship between multiple variables separately within subsets of your dataset using multiple panels."
   ]
  },
  {
   "cell_type": "code",
   "execution_count": null,
   "metadata": {},
   "outputs": [],
   "source": [
    "sns.set_style('white')\n",
    "sns.lmplot(x = 'age', y = 'charges', hue = 'age_category', data = data)"
   ]
  },
  {
   "cell_type": "markdown",
   "metadata": {},
   "source": [
    "Here, I have plotted a lmplot of charges against age but further categorised by age categories. \n",
    "\n",
    "There is a positive relationship between age and charges. Senior citizens have a much steeper increase due to the higher risks of health complications at older ages. "
   ]
  },
  {
   "cell_type": "code",
   "execution_count": null,
   "metadata": {},
   "outputs": [],
   "source": [
    "sns.lmplot(x = 'bmi', y = 'charges', hue = 'smoker', data = data)"
   ]
  },
  {
   "cell_type": "markdown",
   "metadata": {},
   "source": [
    "Here, I have plotted a lmplot of charges against bmi but further categorised by smoking status.\n",
    "\n",
    "Again, we see the positive relationship between bmi and charges but a dramatically steeper hike for smokers in comparison to non-smokers. We can conclude that smoking significantly raises the premium levels for health insurance. "
   ]
  },
  {
   "cell_type": "markdown",
   "metadata": {},
   "source": [
    "## 7.7 sns.swarmplot\n",
    "\n",
    "Swarmplot draws a categorical scatterplot with non-overlapping points."
   ]
  },
  {
   "cell_type": "code",
   "execution_count": null,
   "metadata": {},
   "outputs": [],
   "source": [
    "sns.set_style('white')\n",
    "sns.swarmplot(x = data['smoker'], y = data['charges'])\n",
    "plt.title('Charges by Smoking Habits')"
   ]
  },
  {
   "cell_type": "markdown",
   "metadata": {},
   "source": [
    "## 7.8 sns.violinplot\n",
    "\n",
    "Violinplot draws a combination of boxplot and kernel density estimate."
   ]
  },
  {
   "cell_type": "code",
   "execution_count": null,
   "metadata": {},
   "outputs": [],
   "source": [
    "plt.figure(figsize = (10, 6))\n",
    "sns.set_style('whitegrid')\n",
    "sns.violinplot(x = 'weight_condition', y = 'charges', hue = 'smoker', data = data, split = True)\n",
    "sns.despine(left = True)"
   ]
  },
  {
   "cell_type": "markdown",
   "metadata": {},
   "source": [
    "## 7.9 sns.pointplot\n",
    "\n",
    "A point plot represents an estimate of central tendency for a numeric variable by the position of scatter plot points and provides some indication of the uncertainty around that estimate using error bars."
   ]
  },
  {
   "cell_type": "code",
   "execution_count": null,
   "metadata": {},
   "outputs": [],
   "source": [
    "sns.set_style('white')\n",
    "sns.pointplot(x = 'weight_condition', y = 'charges', hue = 'smoker', data = data)"
   ]
  },
  {
   "cell_type": "markdown",
   "metadata": {},
   "source": [
    "Obese smokers pay a significantly higher premium."
   ]
  },
  {
   "cell_type": "markdown",
   "metadata": {},
   "source": [
    "## 7.10 sns.pairplot\n",
    "\n",
    "Pairplot plots pairwise relationships in a dataset."
   ]
  },
  {
   "cell_type": "code",
   "execution_count": null,
   "metadata": {},
   "outputs": [],
   "source": [
    "sns.pairplot(data, hue = 'smoker')"
   ]
  },
  {
   "cell_type": "markdown",
   "metadata": {},
   "source": [
    "Here, we can examine how smoking correlates with the other numerical variables in our dataset. "
   ]
  },
  {
   "cell_type": "markdown",
   "metadata": {},
   "source": [
    "# 8. Conclusion\n",
    "\n",
    "To summarise, seaborn is a data visualisation library that is built on top of the Python language. In this notebook, we have considered various plots that we can use to visualise distributions as well the relationship between different variables in our dataset. It is important to distinguish between categorical and numerical variables when visualing data as they each require different plots to properly visualise and interpret them.\n",
    "\n",
    "I hope you have learned more about the seaborn library as well as how different features such as age, gender, smoking habits and weight condition correlate with premium levels for health insurance.\n",
    "\n",
    "As usual, feel free to reach out to me if you have any questions or constructive feedback. Happy learning!\n",
    "\n",
    "My platforms: \n",
    "- [Facebook](https://www.facebook.com/chongjason914)\n",
    "- [Instagram](https://www.instagram.com/chongjason914)\n",
    "- [Twitter](https://www.twitter.com/chongjason914)\n",
    "- [LinkedIn](https://www.linkedin.com/in/chongjason914)\n",
    "- [YouTube](https://www.youtube.com/channel/UCQXiCnjatxiAKgWjoUlM-Xg?view_as=subscriber)\n",
    "- [Medium](https://www.medium.com/@chongjason)"
   ]
  }
 ],
 "metadata": {
  "kernelspec": {
   "display_name": "Python 3",
   "language": "python",
   "name": "python3"
  },
  "language_info": {
   "codemirror_mode": {
    "name": "ipython",
    "version": 3
   },
   "file_extension": ".py",
   "mimetype": "text/x-python",
   "name": "python",
   "nbconvert_exporter": "python",
   "pygments_lexer": "ipython3",
   "version": "3.7.6"
  }
 },
 "nbformat": 4,
 "nbformat_minor": 4
}
